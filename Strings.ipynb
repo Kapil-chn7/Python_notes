{
 "cells": [
  {
   "cell_type": "markdown",
   "metadata": {},
   "source": [
    "# Strings All useful functions"
   ]
  },
  {
   "cell_type": "code",
   "execution_count": 4,
   "metadata": {},
   "outputs": [
    {
     "name": "stdout",
     "output_type": "stream",
     "text": [
      "Len of string  13\n"
     ]
    }
   ],
   "source": [
    "strval=\"Hi this is me\"\n",
    "print(\"Len of string \", len(strval))"
   ]
  },
  {
   "cell_type": "code",
   "execution_count": 7,
   "metadata": {},
   "outputs": [
    {
     "name": "stdout",
     "output_type": "stream",
     "text": [
      "Make Uppercase and lower case HI THIS IS ME hi this is me\n"
     ]
    }
   ],
   "source": [
    "print(\"Make Uppercase and lower case\", strval.upper(), strval.lower())"
   ]
  },
  {
   "cell_type": "code",
   "execution_count": 9,
   "metadata": {},
   "outputs": [
    {
     "name": "stdout",
     "output_type": "stream",
     "text": [
      "Replace one string with another string  xc this is me\n"
     ]
    }
   ],
   "source": [
    "print(\"Replace one string with another string \", strval.replace('Hi','xc'))"
   ]
  },
  {
   "cell_type": "code",
   "execution_count": 10,
   "metadata": {},
   "outputs": [
    {
     "name": "stdout",
     "output_type": "stream",
     "text": [
      "Split string  with ' '  ['Hi', 'this', 'is', 'me']\n"
     ]
    }
   ],
   "source": [
    "print(\"Split string  with \\' ' \", strval.split(' '))"
   ]
  },
  {
   "cell_type": "code",
   "execution_count": 11,
   "metadata": {},
   "outputs": [],
   "source": [
    "strval+=' '"
   ]
  },
  {
   "cell_type": "code",
   "execution_count": 19,
   "metadata": {},
   "outputs": [
    {
     "name": "stdout",
     "output_type": "stream",
     "text": [
      "Removes white space from end & front  14\n",
      "Removes white space from end & front  13\n"
     ]
    }
   ],
   "source": [
    "print(\"Removes white space from end & front \", len(strval))\n",
    "strval=strval.strip()\n",
    "print(\"Removes white space from end & front \", len(strval))"
   ]
  },
  {
   "cell_type": "code",
   "execution_count": 25,
   "metadata": {},
   "outputs": [
    {
     "name": "stdout",
     "output_type": "stream",
     "text": [
      "Slicing of string  Hi th  ....   th  ....   this is me\n"
     ]
    }
   ],
   "source": [
    "print(\"Slicing of string \", strval[:5],\" .... \", strval[2:5],' .... ', strval[2:])"
   ]
  },
  {
   "cell_type": "code",
   "execution_count": 26,
   "metadata": {},
   "outputs": [
    {
     "name": "stdout",
     "output_type": "stream",
     "text": [
      "Concationation of strings  Hi this is me at the end\n"
     ]
    }
   ],
   "source": [
    "print(\"Concationation of strings \", strval+' at the end')"
   ]
  },
  {
   "cell_type": "code",
   "execution_count": 27,
   "metadata": {},
   "outputs": [
    {
     "name": "stdout",
     "output_type": "stream",
     "text": [
      "Formating of strings  one 1 two 2 three 3\n"
     ]
    }
   ],
   "source": [
    "print(\"Formating of strings \", \"one {} two {} three {}\".format(1,2,3))"
   ]
  },
  {
   "cell_type": "code",
   "execution_count": 28,
   "metadata": {},
   "outputs": [
    {
     "name": "stdout",
     "output_type": "stream",
     "text": [
      "Writing double quotes with \"THIS\"\n"
     ]
    }
   ],
   "source": [
    "print(\"Writing double quotes with \\\"THIS\\\"\")"
   ]
  },
  {
   "cell_type": "code",
   "execution_count": 39,
   "metadata": {},
   "outputs": [
    {
     "name": "stdout",
     "output_type": "stream",
     "text": [
      "Something is present in string or not  True\n",
      "Something is present in string or not  True\n"
     ]
    },
    {
     "data": {
      "text/plain": [
       "'Hi this is me'"
      ]
     },
     "execution_count": 39,
     "metadata": {},
     "output_type": "execute_result"
    }
   ],
   "source": [
    "print(\"Something is present in string or not \", \"hi\" in strval)\n",
    "print(\"Something is present in string or not \", \"hisx\" not in strval)\n",
    "strval"
   ]
  },
  {
   "cell_type": "code",
   "execution_count": 42,
   "metadata": {},
   "outputs": [
    {
     "name": "stdout",
     "output_type": "stream",
     "text": [
      "Count a value in string  0\n"
     ]
    }
   ],
   "source": [
    "print(\"Count a value in string \", strval.count(\"z\"))"
   ]
  },
  {
   "cell_type": "code",
   "execution_count": 46,
   "metadata": {},
   "outputs": [
    {
     "name": "stdout",
     "output_type": "stream",
     "text": [
      "Find a value  -1\n",
      "Find a value, if found returns its index  4\n"
     ]
    }
   ],
   "source": [
    "print(\"Find a value \", strval.find('k'))\n",
    "print(\"Find a value, if found returns its index \", strval.find('h'))"
   ]
  },
  {
   "cell_type": "code",
   "execution_count": null,
   "metadata": {},
   "outputs": [],
   "source": []
  }
 ],
 "metadata": {
  "kernelspec": {
   "display_name": "Python 3",
   "language": "python",
   "name": "python3"
  },
  "language_info": {
   "codemirror_mode": {
    "name": "ipython",
    "version": 3
   },
   "file_extension": ".py",
   "mimetype": "text/x-python",
   "name": "python",
   "nbconvert_exporter": "python",
   "pygments_lexer": "ipython3",
   "version": "3.8.5"
  }
 },
 "nbformat": 4,
 "nbformat_minor": 4
}
